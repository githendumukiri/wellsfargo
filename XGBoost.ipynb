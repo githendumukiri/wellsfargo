{
 "cells": [
  {
   "cell_type": "code",
   "execution_count": 3,
   "metadata": {
    "collapsed": true,
    "pycharm": {
     "name": "#%%\n"
    }
   },
   "outputs": [
    {
     "name": "stdout",
     "output_type": "stream",
     "text": [
      "[20:18:13] WARNING: C:/Users/Administrator/workspace/xgboost-win64_release_1.4.0/src/learner.cc:1095: Starting in XGBoost 1.3.0, the default evaluation metric used with the objective 'binary:logistic' was changed from 'error' to 'logloss'. Explicitly set eval_metric if you'd like to restore the old behavior.\n"
     ]
    },
    {
     "data": {
      "text/plain": "<Figure size 432x288 with 2 Axes>",
      "image/png": "[encoded data removed]"
     },
     "metadata": {
      "needs_background": "light"
     },
     "output_type": "display_data"
    },
    {
     "name": "stdout",
     "output_type": "stream",
     "text": [
      "              precision    recall  f1-score   support\n",
      "\n",
      "           0     1.0000    0.9970    0.9985      1326\n",
      "           1     0.9988    1.0000    0.9994      3294\n",
      "\n",
      "    accuracy                         0.9991      4620\n",
      "   macro avg     0.9994    0.9985    0.9989      4620\n",
      "weighted avg     0.9991    0.9991    0.9991      4620\n",
      "\n",
      "      dataset_id  FRAUD_NONFRAUD\n",
      "0              1               1\n",
      "1              2               1\n",
      "2              3               1\n",
      "3              4               1\n",
      "4              5               1\n",
      "...          ...             ...\n",
      "5995        5996               1\n",
      "5996        5997               0\n",
      "5997        5998               1\n",
      "5998        5999               0\n",
      "5999        6000               1\n",
      "\n",
      "[6000 rows x 2 columns]\n"
     ]
    }
   ],
   "source": [
    "import pandas as pd\n",
    "import numpy as np\n",
    "import xgboost as xgb\n",
    "\n",
    "import seaborn as sns\n",
    "import matplotlib.pyplot as plt\n",
    "\n",
    "from sklearn.metrics import classification_report, confusion_matrix\n",
    "from sklearn.model_selection import train_test_split\n",
    "from sklearn.preprocessing import LabelEncoder\n",
    "from sklearn.metrics import accuracy_score\n",
    "\n",
    "labelencoder = LabelEncoder()\n",
    "\n",
    "# import training set & test set\n",
    "train = pd.read_excel('b765dc3d8076-trainset+(1).xlsx')\n",
    "test = pd.read_excel('b765dc3d8076-testset_for_participants.xlsx')\n",
    "\n",
    "# isolate dataset_id from test set\n",
    "dataset_id = test['dataset_id'].to_numpy()\n",
    "\n",
    "# remove redundant and unneeded features\n",
    "test = test.drop(columns=['ACTN_CD', 'ACTN_INTNL_TXT', 'TRAN_TYPE_CD', 'CUST_SINCE_DT', 'dataset_id'])\n",
    "train = train.drop(columns=['ACTN_CD', 'ACTN_INTNL_TXT', 'TRAN_TYPE_CD', 'CUST_SINCE_DT'])\n",
    "\n",
    "# convert categorical data into label-encoded data (0 - n_classes - 1)\n",
    "objList = train.select_dtypes(include=\"object\").columns\n",
    "for feat in objList:\n",
    "    train[feat] = labelencoder.fit_transform(train[feat].astype(str))\n",
    "objList = test.select_dtypes(include=\"object\").columns\n",
    "for feat in objList:\n",
    "    test[feat] = labelencoder.fit_transform(test[feat].astype(str))\n",
    "\n",
    "# finalize train and test set for classification\n",
    "X = train.drop(columns=['FRAUD_NONFRAUD'])\n",
    "y = train.loc[:, 'FRAUD_NONFRAUD']\n",
    "\n",
    "# split train data for for testing algorithm performance\n",
    "X_train, X_test, y_train, y_test = train_test_split(X, y, test_size=0.33, random_state=42)\n",
    "\n",
    "# build model\n",
    "clf = xgb.XGBClassifier(\n",
    "    use_label_encoder=False\n",
    ")\n",
    "clf.fit(X, y)\n",
    "\n",
    "# test model predictions on training set\n",
    "y_pred = clf.predict(X_test)\n",
    "\n",
    "# final prediction on test set\n",
    "pred = clf.predict(test)\n",
    "pred = np.asarray(pred)\n",
    "\n",
    "# prepare results\n",
    "results_array = np.column_stack((dataset_id, pred))\n",
    "results_df = pd.DataFrame(results_array, columns=['dataset_id', 'FRAUD_NONFRAUD'])\n",
    "\n",
    "# display model performance on training set\n",
    "## confusion matrix\n",
    "conf_matrix = confusion_matrix(y_test, y_pred)\n",
    "sns.heatmap(conf_matrix, annot=True, fmt='g')\n",
    "plt.show()\n",
    "\n",
    "## classification report\n",
    "print(classification_report(y_test, y_pred, digits=4))\n",
    "\n",
    "## results table\n",
    "print(results_df)\n",
    "results_df.to_excel(\"results.xlsx\")"
   ]
  }
 ],
 "metadata": {
  "kernelspec": {
   "display_name": "Python 3",
   "language": "python",
   "name": "python3"
  },
  "language_info": {
   "codemirror_mode": {
    "name": "ipython",
    "version": 2
   },
   "file_extension": ".py",
   "mimetype": "text/x-python",
   "name": "python",
   "nbconvert_exporter": "python",
   "pygments_lexer": "ipython2",
   "version": "2.7.6"
  }
 },
 "nbformat": 4,
 "nbformat_minor": 0
}